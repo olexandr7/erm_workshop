{
  "nbformat": 4,
  "nbformat_minor": 0,
  "metadata": {
    "colab": {
      "provenance": [],
      "authorship_tag": "ABX9TyPdl16EC8QFD9rNhXHfHJzz",
      "include_colab_link": true
    },
    "kernelspec": {
      "name": "python3",
      "display_name": "Python 3"
    },
    "language_info": {
      "name": "python"
    }
  },
  "cells": [
    {
      "cell_type": "markdown",
      "metadata": {
        "id": "view-in-github",
        "colab_type": "text"
      },
      "source": [
        "<a href=\"https://colab.research.google.com/github/olexandr7/erm_workshop/blob/main/ERM_workshop_2.ipynb\" target=\"_parent\"><img src=\"https://colab.research.google.com/assets/colab-badge.svg\" alt=\"Open In Colab\"/></a>"
      ]
    },
    {
      "cell_type": "markdown",
      "source": [
        "**Workshop 2** is focused on trying out image manipulation\n",
        "\n",
        "Let's now pick an image from MuIS and try several operations:\n",
        "* inverting image\n",
        "* changing image colorspace\n",
        "* visual pattern matching"
      ],
      "metadata": {
        "id": "CgtLz_uttefx"
      }
    },
    {
      "cell_type": "markdown",
      "source": [
        "**Block 1**: installing relevant libraries for image manipulation"
      ],
      "metadata": {
        "id": "yTOkthgxBfPG"
      }
    },
    {
      "cell_type": "code",
      "execution_count": null,
      "metadata": {
        "id": "K_5_tgvML4I7"
      },
      "outputs": [],
      "source": [
        "# Importing/installing libraries\n",
        "%pip install cvlib\n",
        "%matplotlib inline\n",
        "#------------------\n",
        "import cv2\n",
        "import numpy as np\n",
        "import matplotlib.pyplot as plt\n",
        "import urllib.request\n",
        "import requests\n",
        "#------------------\n",
        "from PIL import Image\n",
        "from cvlib.object_detection import draw_bbox\n",
        "from google.colab.patches import cv2_imshow\n",
        "from skimage import io\n",
        "from matplotlib import pyplot as plt"
      ]
    },
    {
      "cell_type": "markdown",
      "source": [
        "**Block 2**: loading image from MuIS\n",
        "string\n",
        "<br>  <font color='orange'>Action point:</font> Try changing URL to any image from MuIS (right click on image -> copy image link) https://www.muis.ee/museaalview/1887998"
      ],
      "metadata": {
        "id": "Eyo5pUCkB9OY"
      }
    },
    {
      "cell_type": "code",
      "source": [
        "#Loading image\n",
        "url = \"https://www.muis.ee/digitaalhoidla/api/meedia/pisipilt?id=dbcd28ca-89e3-4c13-b6e8-b0cbc889c771\"  #<---  URL could be changed to any image from MuIS\n",
        "url_response = urllib.request.urlopen(url)\n",
        "img = cv2.imdecode(np.array(bytearray(url_response.read()), dtype=np.uint8), -1)\n",
        "cv2_imshow(img)"
      ],
      "metadata": {
        "id": "jG9-gO7_MN4S"
      },
      "execution_count": null,
      "outputs": []
    },
    {
      "cell_type": "markdown",
      "source": [
        "**Block 3**: Performing image manipulations\n",
        "<br>  <font color='orange'>Action point:</font> Try changing the code below to display only 1 image (not 3) - inverted"
      ],
      "metadata": {
        "id": "d_qkaJtBDHqt"
      }
    },
    {
      "cell_type": "code",
      "source": [
        "#Inverting image\n",
        "inverted = cv2.bitwise_not(img)\n",
        "#Setting image to HSV\n",
        "hsv = cv2.cvtColor(img, cv2.COLOR_BGR2HSV)\n",
        "#Setting image to LAB\n",
        "lab = cv2.cvtColor(img, cv2.COLOR_BGR2LAB)\n",
        "#Creating a collage of all modified images\n",
        "img_all = np.hstack([inverted,  hsv, lab])\n",
        "#displaying all modified images\n",
        "cv2_imshow(img_all)"
      ],
      "metadata": {
        "id": "yD5dKFpAMyb0"
      },
      "execution_count": null,
      "outputs": []
    },
    {
      "cell_type": "markdown",
      "source": [
        "**Block 4**: Template matching - loading and preparing MuIS images\n",
        "<br>  <font color='orange'>Action point:</font> Try changing URLs for image and template for a suitable combination from MuIS"
      ],
      "metadata": {
        "id": "6Ve3hJV4DV4o"
      }
    },
    {
      "cell_type": "markdown",
      "source": [
        "📂📂📂📂📂📂📂📂📂📂📂📂📂📂📂📂📂📂📂📂📂📂📂📂📂📂📂📂📂📂📂\n",
        "<br>\n",
        "before running the script below it's needed to import template image from local folder into Colab notebook"
      ],
      "metadata": {
        "id": "q0am9bsoW3qx"
      }
    },
    {
      "cell_type": "code",
      "source": [
        "#Choosing image and template - code taken from opencv tutorial at:\n",
        "#https://docs.opencv.org/3.4/d4/dc6/tutorial_py_template_matching.html\n",
        "\n",
        "#Loading image and template\n",
        "#url_img = \"https://www.muis.ee/digitaalhoidla/api/meedia/pisipilt?id=236f05e6-4060-4190-9eaf-0f0f70e0d09e\"       #<---  URL could be changed to any image from MuIS\n",
        "#url_template = \"https://www.muis.ee/digitaalhoidla/api/meedia/pisipilt?id=5120c5cc-6e75-4dca-a366-df361a138f8a\"  #<---  URL could be changed to any image from MuIS\n",
        "\n",
        "url_img = \"https://www.muis.ee/digitaalhoidla/api/meedia/pisipilt?id=528fd080-f2bb-4f42-8d75-dd67860cca50\"       #<---  URL could be changed to any image from MuIS\n",
        "#url_template = \"https://www.muis.ee/digitaalhoidla/api/meedia/pisipilt?id=5120c5cc-6e75-4dca-a366-df361a138f8a\"  #<---  URL could be changed to any image from MuIS\n",
        "\n",
        "#loading images\n",
        "url_response_img = urllib.request.urlopen(url_img)\n",
        "img = cv2.imdecode(np.array(bytearray(url_response_img.read()), dtype=np.uint8), -1)\n",
        "template = cv2.imdecode(np.fromfile('/content/crcle.PNG', dtype=np.uint8), cv2.IMREAD_UNCHANGED)  #<------CHANGE: this should be actual filename of template image\n",
        "#if template is also uploaded from url\n",
        "#url_response_template = urllib.request.urlopen(url_template)\n",
        "#template = cv2.imdecode(np.array(bytearray(url_response_template.read()), dtype=np.uint8), -1)\n",
        "\n",
        "#setting to grey color palette\n",
        "img_gray = cv2.cvtColor(img, cv2.COLOR_BGR2GRAY)\n",
        "template = cv2.cvtColor(template, cv2.COLOR_BGR2GRAY)\n",
        "#type conversion\n",
        "img = img.astype(np.uint8)\n",
        "template = template.astype(np.uint8)\n",
        "\n",
        "\n",
        "#adaptive thresholding\n",
        "img_gray = cv2.medianBlur(img_gray,5)\n",
        "# Otsu's thresholding after Gaussian filtering\n",
        "blur = cv2.GaussianBlur(img_gray,(5,5),0)\n",
        "ret3,img_gray = cv2.threshold(blur,0,255,cv2.THRESH_BINARY+cv2.THRESH_OTSU)\n",
        "\n",
        "#verifying that images are loaded\n",
        "if img is None or template is None:\n",
        "    print('Could not open or find the images!')\n",
        "else:\n",
        "    print('Images successfully loaded!')\n",
        "\n",
        "#resizing (keeping just in case - sometimes needed to resize template)\n",
        "#template = cv2.resize(template, (0, 0), fx = 0.1, fy = 0.1)"
      ],
      "metadata": {
        "id": "qslx0puTgRev"
      },
      "execution_count": null,
      "outputs": []
    },
    {
      "cell_type": "code",
      "source": [
        "cv2_imshow(img_gray)"
      ],
      "metadata": {
        "id": "dOhsxgzvw9T1"
      },
      "execution_count": null,
      "outputs": []
    },
    {
      "cell_type": "markdown",
      "source": [
        "**Block 5**: Applying and visualizing pattern matching\n",
        "<br>  <font color='orange'>Action point:</font> Try changing the titles on displayed match results"
      ],
      "metadata": {
        "id": "lv1jC2JwDWlY"
      }
    },
    {
      "cell_type": "code",
      "source": [
        "#https://docs.opencv.org/3.4/d4/dc6/tutorial_py_template_matching.html\n",
        "#https://stackoverflow.com/questions/50579050/template-matching-with-multiple-objects-in-opencv-python\n",
        "\n",
        "#Setting pre-requisites for template/pattern matching\n",
        "h, w = template.shape[:4]\n",
        "\n",
        "method = cv2.TM_CCOEFF_NORMED\n",
        "\n",
        "threshold = 0.7\n",
        "\n",
        "res = cv2.matchTemplate(img_gray, template, method)\n",
        "\n",
        "# fake out max_val for first run through loop\n",
        "max_val = 1\n",
        "prev_min_val, prev_max_val, prev_min_loc, prev_max_loc = None, None, None, None\n",
        "while max_val > threshold:\n",
        "    min_val, max_val, min_loc, max_loc = cv2.minMaxLoc(res)\n",
        "\n",
        "    # Prevent infinite loop. If those 4 values are the same as previous ones, break the loop.\n",
        "    if prev_min_val == min_val and prev_max_val == max_val and prev_min_loc == min_loc and prev_max_loc == max_loc:\n",
        "        break\n",
        "    else:\n",
        "        prev_min_val, prev_max_val, prev_min_loc, prev_max_loc = min_val, max_val, min_loc, max_loc\n",
        "\n",
        "    if max_val > threshold:\n",
        "        # Prevent start_row, end_row, start_col, end_col be out of range of image\n",
        "        start_row = max(0, max_loc[1] - h // 2)\n",
        "        start_col = max(0, max_loc[0] - w // 2)\n",
        "        end_row = min(res.shape[0], max_loc[1] + h // 2 + 1)\n",
        "        end_col = min(res.shape[1], max_loc[0] + w // 2 + 1)\n",
        "\n",
        "        res[start_row: end_row, start_col: end_col] = 0\n",
        "        img = cv2.rectangle(img,(max_loc[0],max_loc[1]), (max_loc[0]+w+1, max_loc[1]+h+1), (0,255,0) )\n",
        "\n",
        "cv2_imshow(img)"
      ],
      "metadata": {
        "id": "_GCad9TwinVD"
      },
      "execution_count": null,
      "outputs": []
    },
    {
      "cell_type": "markdown",
      "source": [
        "That would be it, thank you!\n",
        "<br>\n",
        "🔚🔚🔚🔚🔚🔚🔚🔚🔚🔚🔚🔚🔚🔚🔚🔚🔚🔚"
      ],
      "metadata": {
        "id": "CRrHYcWuXdlC"
      }
    }
  ]
}