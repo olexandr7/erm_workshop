{
  "nbformat": 4,
  "nbformat_minor": 0,
  "metadata": {
    "colab": {
      "provenance": [],
      "authorship_tag": "ABX9TyPjyeM2fVsy07pH9oLWBQpS",
      "include_colab_link": true
    },
    "kernelspec": {
      "name": "python3",
      "display_name": "Python 3"
    },
    "language_info": {
      "name": "python"
    }
  },
  "cells": [
    {
      "cell_type": "markdown",
      "metadata": {
        "id": "view-in-github",
        "colab_type": "text"
      },
      "source": [
        "<a href=\"https://colab.research.google.com/github/olexandr7/erm_workshop/blob/main/ERM_workshop_2.ipynb\" target=\"_parent\"><img src=\"https://colab.research.google.com/assets/colab-badge.svg\" alt=\"Open In Colab\"/></a>"
      ]
    },
    {
      "cell_type": "markdown",
      "source": [
        "**Workshop 2** is focused on trying out image manipulation\n",
        "\n",
        "Let's now pick an image from MuIS and try several operations:\n",
        "* inverting image\n",
        "* changing image colorspace\n",
        "* visual pattern matching"
      ],
      "metadata": {
        "id": "CgtLz_uttefx"
      }
    },
    {
      "cell_type": "markdown",
      "source": [
        "**Block 1**: installing relevant libraries for image manipulation"
      ],
      "metadata": {
        "id": "yTOkthgxBfPG"
      }
    },
    {
      "cell_type": "code",
      "execution_count": null,
      "metadata": {
        "id": "K_5_tgvML4I7"
      },
      "outputs": [],
      "source": [
        "# Importing/installing libraries\n",
        "%pip install cvlib\n",
        "%matplotlib inline\n",
        "#------------------\n",
        "import cv2\n",
        "import numpy as np\n",
        "import matplotlib.pyplot as plt\n",
        "import urllib.request\n",
        "import requests\n",
        "#------------------\n",
        "from PIL import Image\n",
        "from cvlib.object_detection import draw_bbox\n",
        "from google.colab.patches import cv2_imshow\n",
        "from skimage import io\n",
        "from matplotlib import pyplot as plt"
      ]
    },
    {
      "cell_type": "markdown",
      "source": [
        "**Block 2**: loading image from MuIS\n",
        "string\n",
        "<br>  <font color='orange'>Action point:</font> Try changing URL to any image from MuIS (right click on image -> copy image link) https://www.muis.ee/museaalview/1887998"
      ],
      "metadata": {
        "id": "Eyo5pUCkB9OY"
      }
    },
    {
      "cell_type": "code",
      "source": [
        "#Loading image\n",
        "url = \"https://www.muis.ee/digitaalhoidla/api/meedia/pisipilt?id=dbcd28ca-89e3-4c13-b6e8-b0cbc889c771\"  #<---  URL could be changed to any image from MuIS\n",
        "url_response = urllib.request.urlopen(url)\n",
        "img = cv2.imdecode(np.array(bytearray(url_response.read()), dtype=np.uint8), -1)\n",
        "cv2_imshow(img)"
      ],
      "metadata": {
        "id": "jG9-gO7_MN4S"
      },
      "execution_count": null,
      "outputs": []
    },
    {
      "cell_type": "markdown",
      "source": [
        "**Block 3**: Performing image manipulations\n",
        "<br>  <font color='orange'>Action point:</font> Try changing the code below to display only 1 image (not 3) - inverted"
      ],
      "metadata": {
        "id": "d_qkaJtBDHqt"
      }
    },
    {
      "cell_type": "code",
      "source": [
        "#Inverting image\n",
        "inverted = cv2.bitwise_not(img)\n",
        "#Setting image to HSV\n",
        "hsv = cv2.cvtColor(img, cv2.COLOR_BGR2HSV)\n",
        "#Setting image to LAB\n",
        "lab = cv2.cvtColor(img, cv2.COLOR_BGR2LAB)\n",
        "#Creating a collage of all modified images\n",
        "img_all = np.hstack([inverted,  hsv, lab])\n",
        "#displaying all modified images\n",
        "cv2_imshow(img_all)"
      ],
      "metadata": {
        "id": "yD5dKFpAMyb0"
      },
      "execution_count": null,
      "outputs": []
    },
    {
      "cell_type": "markdown",
      "source": [
        "**Block 4**: Template matching - loading and preparing MuIS images\n",
        "<br>  <font color='orange'>Action point:</font> Try changing URLs for image and template for a suitable combination from MuIS"
      ],
      "metadata": {
        "id": "6Ve3hJV4DV4o"
      }
    },
    {
      "cell_type": "code",
      "source": [
        "#Choosing image and template - code taken from opencv tutorial at:\n",
        "#https://docs.opencv.org/3.4/d4/dc6/tutorial_py_template_matching.html\n",
        "\n",
        "#Loading image and template\n",
        "url_img = \"https://www.muis.ee/digitaalhoidla/api/meedia/pisipilt?id=236f05e6-4060-4190-9eaf-0f0f70e0d09e\"       #<---  URL could be changed to any image from MuIS\n",
        "url_template = \"https://www.muis.ee/digitaalhoidla/api/meedia/pisipilt?id=5120c5cc-6e75-4dca-a366-df361a138f8a\"  #<---  URL could be changed to any image from MuIS\n",
        "\n",
        "#loading images\n",
        "url_response_img = urllib.request.urlopen(url_img)\n",
        "img = cv2.imdecode(np.array(bytearray(url_response_img.read()), dtype=np.uint8), -1)\n",
        "url_response_template = urllib.request.urlopen(url_template)\n",
        "template = cv2.imdecode(np.array(bytearray(url_response_template.read()), dtype=np.uint8), -1)\n",
        "#setting to grey color palette\n",
        "img = cv2.cvtColor(img, cv2.COLOR_BGR2GRAY)\n",
        "template = cv2.cvtColor(template, cv2.COLOR_BGR2GRAY)\n",
        "#type conversion\n",
        "img = img.astype(np.uint8)\n",
        "template = template.astype(np.uint8)\n",
        "\n",
        "#verifying that images are loaded\n",
        "if img is None or template is None:\n",
        "    print('Could not open or find the images!')\n",
        "else:\n",
        "    print('Images successfully loaded!')\n",
        "\n",
        "#resizing (keeping just in case - sometimes needed to resize template)\n",
        "#template = cv2.resize(template, (0, 0), fx = 0.1, fy = 0.1)"
      ],
      "metadata": {
        "id": "qslx0puTgRev"
      },
      "execution_count": null,
      "outputs": []
    },
    {
      "cell_type": "markdown",
      "source": [
        "**Block 5**: Applying and visualizing pattern matching\n",
        "<br>  <font color='orange'>Action point:</font> Try changing the titles on displayed match results"
      ],
      "metadata": {
        "id": "lv1jC2JwDWlY"
      }
    },
    {
      "cell_type": "code",
      "source": [
        "#https://docs.opencv.org/3.4/d4/dc6/tutorial_py_template_matching.html\n",
        "#Setting pre-requisites for template/pattern matching\n",
        "w, h = template.shape[::-1]\n",
        "img2 = img.copy()\n",
        "img = img2.copy()\n",
        "method = eval('cv2.TM_CCOEFF') #<--- algorithm used to match\n",
        "\n",
        "# Applying template matching\n",
        "res = cv2.matchTemplate(img, template, method)\n",
        "min_val, max_val, min_loc, max_loc = cv2.minMaxLoc(res)\n",
        "top_left = max_loc\n",
        "bottom_right = (top_left[0] + w, top_left[1] + h)\n",
        "\n",
        "# Visualizing template matching\n",
        "cv2.rectangle(img,top_left, bottom_right, 255, 2)\n",
        "plt.subplot(121),plt.imshow(template, cmap = 'gray')\n",
        "plt.title('Template'), plt.xticks([]), plt.yticks([])         #<---  title could be changed\n",
        "plt.subplot(122),plt.imshow(img, cmap = 'gray')\n",
        "plt.title('Detected Match'), plt.xticks([]), plt.yticks([])   #<---  title could be changed\n",
        "plt.show()"
      ],
      "metadata": {
        "id": "_GCad9TwinVD"
      },
      "execution_count": null,
      "outputs": []
    }
  ]
}