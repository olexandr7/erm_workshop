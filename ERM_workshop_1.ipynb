{
  "nbformat": 4,
  "nbformat_minor": 0,
  "metadata": {
    "colab": {
      "provenance": [],
      "authorship_tag": "ABX9TyP1PeqZliIX+LY+rxVacsCY",
      "include_colab_link": true
    },
    "kernelspec": {
      "name": "python3",
      "display_name": "Python 3"
    },
    "language_info": {
      "name": "python"
    }
  },
  "cells": [
    {
      "cell_type": "markdown",
      "metadata": {
        "id": "view-in-github",
        "colab_type": "text"
      },
      "source": [
        "<a href=\"https://colab.research.google.com/github/olexandr7/erm_workshop/blob/main/ERM_workshop_1.ipynb\" target=\"_parent\"><img src=\"https://colab.research.google.com/assets/colab-badge.svg\" alt=\"Open In Colab\"/></a>"
      ]
    },
    {
      "cell_type": "code",
      "execution_count": null,
      "metadata": {
        "id": "6er42ML1CB5P"
      },
      "outputs": [],
      "source": [
        "#https://opendata.muis.ee/\n",
        "#technical scripts\n",
        "\n",
        "#installing rdflib library\n",
        "#%pip install rdflib\n",
        "\n",
        "#https://rdflib.readthedocs.io/en/stable/gettingstarted.html#a-more-extensive-example\n",
        "from rdflib import Graph\n",
        "# Create a Graph\n",
        "g = Graph()\n",
        "\n",
        "#https://www.muis.ee/museaalview/1202860\n",
        "#https://www.muis.ee/museaalview/1202860\n",
        "\n",
        "\n",
        "# Parse in an RDF file hosted on the Internet\n",
        "g.parse(\"http://opendata.muis.ee/object/1203128\")\n",
        "#g.parse(\"http://opendata.muis.ee/object/1120182\")"
      ]
    },
    {
      "cell_type": "code",
      "source": [
        "# Loop through each triple in the graph (subj, pred, obj)\n",
        "#for subj, pred, obj in g:\n",
        "    #print(subj)\n",
        "    #print(subj, pred, obj)\n",
        "\n",
        "# Print the number of \"triples\" in the Graph\n",
        "#print(f\"Graph g has {len(g)} statements.\")\n",
        "# Prints: Graph g has 86 statements.\n",
        "\n",
        "# Print out the entire Graph in the RDF Turtle format\n",
        "#print(g.serialize(format='turtle'))\n",
        "\n",
        "for s, p, o in g:\n",
        "    print(s, p, o)\n",
        "    #if \"image/\" in o: print(s)\n",
        "    #if \"P46_is_composed_of\" in p: print(o)"
      ],
      "metadata": {
        "id": "n2_uRVTYFzjX"
      },
      "execution_count": null,
      "outputs": []
    },
    {
      "cell_type": "code",
      "source": [
        "#actually not relevant\n",
        "\n",
        "#getting list of valid URLs into list\n",
        "from rdflib import Graph\n",
        "g = Graph()\n",
        "url = \"http://opendata.muis.ee/person-group/\"\n",
        "generallist = []\n",
        "\n",
        "lst = list(range(100000, 100001))\n",
        "for i in lst:\n",
        "    id = str(i)\n",
        "    try:\n",
        "        #g.parse(url + id)\n",
        "        print(url + id)\n",
        "        generallist.append(url+id)\n",
        "    except:\n",
        "        pass\n",
        "        #print(\"error: \" + url + id)"
      ],
      "metadata": {
        "colab": {
          "base_uri": "https://localhost:8080/"
        },
        "collapsed": true,
        "id": "LjZEefpwGOQm",
        "outputId": "1d1f2e3c-2fa0-418d-b0aa-e8632bebff69"
      },
      "execution_count": 3,
      "outputs": [
        {
          "output_type": "stream",
          "name": "stdout",
          "text": [
            "http://opendata.muis.ee/person-group/100000\n"
          ]
        }
      ]
    },
    {
      "cell_type": "code",
      "source": [
        "#actually not relevant\n",
        "\n",
        "\n",
        "#getting list of valid URLs into list\n",
        "from rdflib import Graph\n",
        "g = Graph()\n",
        "url = \"http://opendata.muis.ee/person-group/\"\n",
        "generallist = []\n",
        "\n",
        "lst = list(range(100000, 100001))\n",
        "for i in lst:\n",
        "    id = str(i)\n",
        "    try:\n",
        "        #g.parse(url + id)\n",
        "        print(url + id)\n",
        "        generallist.append(url+id)\n",
        "    except:\n",
        "        pass\n",
        "        #print(\"error: \" + url + id)"
      ],
      "metadata": {
        "collapsed": true,
        "colab": {
          "base_uri": "https://localhost:8080/"
        },
        "id": "GsfdJ53pGTUC",
        "outputId": "c82db0db-2f9c-4c77-8826-37eee135f8e1"
      },
      "execution_count": 4,
      "outputs": [
        {
          "output_type": "stream",
          "name": "stdout",
          "text": [
            "http://opendata.muis.ee/person-group/100000\n"
          ]
        }
      ]
    },
    {
      "cell_type": "code",
      "source": [
        "#actually not relevant\n",
        "\n",
        "#filtering out values from valid URLs, adding them into two lists\n",
        "museumlist_url = []\n",
        "museumlist_names = []\n",
        "\n",
        "\n",
        "for i in generallist:\n",
        "    g = Graph()\n",
        "    g.parse(i)\n",
        "    for s, p, o in g:\n",
        "        #print(s, p, o)\n",
        "        #if \"image/\" in o: print(s)\n",
        "        if \"rdf-schema#label\" in p:  museumlist_url.append(i), museumlist_names.append(o)\n",
        "        #print(i + \" \" + o)\n",
        "\n",
        "#making dataframe out of list, filtering out only museums\n",
        "# import pandas as pd\n",
        "import pandas as pd\n",
        "\n",
        "df = pd.DataFrame(list(zip(museumlist_url, museumlist_names)))\n",
        "df = df.rename(columns={0: 'URL',1: 'Name'})\n",
        "df = df[df['Name'].str.contains(\"Muuseum\")]\n",
        "df\n",
        "df.to_excel(\"museums_list.xlsx\")"
      ],
      "metadata": {
        "id": "fcRvR7KpGXnU"
      },
      "execution_count": 5,
      "outputs": []
    },
    {
      "cell_type": "code",
      "source": [
        "####\n",
        "# Textile collection analysis\n",
        "####\n",
        "\n",
        "#http://www.muis.ee/rdf/collection/837\n",
        "#https://www.muis.ee/museaalview/1887998\n",
        "#textile collection (Muuseumikogu tekstiil) from Tallinna Linnamuuseum\n",
        "\n",
        "#idea\n",
        "#getting list of all objects from collection into list\n",
        "#getting descriptions from each of objects into dataframe"
      ],
      "metadata": {
        "id": "INdiXanxGmMb"
      },
      "execution_count": null,
      "outputs": []
    },
    {
      "cell_type": "code",
      "source": [
        "from rdflib import Graph\n",
        "\n",
        "g = Graph()\n",
        "collectionitemslist = []\n",
        "\n",
        "# Parse in an RDF file\n",
        "#g.parse(\"http://www.muis.ee/rdf/collection/831\")\n",
        "g.parse(\"http://www.muis.ee/rdf/collection/849\")\n",
        "\n",
        "#loop through triples\n",
        "for s, p, o in g:\n",
        "    if \"P46_is_composed_of\" in p: collectionitemslist.append(o)\n",
        "\n",
        "#collectionitemslist now contains urls of all items in this particular collection"
      ],
      "metadata": {
        "id": "ScFvXpIqGuY-"
      },
      "execution_count": 29,
      "outputs": []
    },
    {
      "cell_type": "code",
      "source": [
        "collectionitemslist"
      ],
      "metadata": {
        "id": "YaUQiMBXcCk9"
      },
      "execution_count": null,
      "outputs": []
    },
    {
      "cell_type": "code",
      "source": [
        "#Old version of dataset generation\n",
        "\n",
        "#filtering out values from valid URLs, adding them into two lists\n",
        "collectionitemslist_url = []\n",
        "collectionitemslist_label = []\n",
        "\n",
        "\n",
        "it = 0\n",
        "\n",
        "for i in collectionitemslist:\n",
        "    g = Graph()\n",
        "    try:\n",
        "        it += 1\n",
        "        g.parse(i)\n",
        "        for s, p, o in g:\n",
        "            print(p)\n",
        "            if \"rdf-schema#label\" in p:  print(it), collectionitemslist_url.append(i), collectionitemslist_label.append(o)\n",
        "    except:\n",
        "        pass"
      ],
      "metadata": {
        "id": "ZpTA01UVGw0W"
      },
      "execution_count": null,
      "outputs": []
    },
    {
      "cell_type": "code",
      "source": [
        "#filtering out values from valid URLs, adding them into multiple lists\n",
        "collectionitemslist_url = []\n",
        "collectionitemslist_title = []\n",
        "collectionitemslist_label = []\n",
        "collectionitemslist_availabiletime = []\n",
        "collectionitemslist_identifier = []\n",
        "collectionitemslist_publisher = []\n",
        "collectionitemslist_collection = []\n",
        "it = 0\n",
        "\n",
        "for i in collectionitemslist:\n",
        "    g = Graph()\n",
        "    try:\n",
        "        it += 1\n",
        "        g.parse(i)\n",
        "        for s, p, o in g:\n",
        "            if \"http://opendata.muis.ee/object/\" in s and \"www.w3.org/2000/01/rdf-schema#label\" in p:  print(it), collectionitemslist_url.append(i), collectionitemslist_title.append(o)\n",
        "            if \"purl.org/dc/terms/available\" in p:  print(it), collectionitemslist_url.append(i), collectionitemslist_availabiletime.append(o)\n",
        "            if \"purl.org/dc/terms/identifier\" in p:  print(it), collectionitemslist_url.append(i), collectionitemslist_identifier.append(o)\n",
        "            if \"purl.org/dc/elements/1.1/publisher\" in p:  print(it), collectionitemslist_url.append(i), collectionitemslist_publisher.append(o)\n",
        "            if \"http://opendata.muis.ee/object/\" in s and \"cidoc-crm/P46i_forms_part_of\" in p and \"/collection/\" in o:  print(it), collectionitemslist_url.append(i), collectionitemslist_collection.append(o)\n",
        "            if \"rdf-schema#label\" in p and \"tervik\" not in o:  print(it), collectionitemslist_url.append(i), collectionitemslist_label.append(o)\n",
        "\n",
        "    except:\n",
        "        pass"
      ],
      "metadata": {
        "id": "aRRqhy7_e30D"
      },
      "execution_count": null,
      "outputs": []
    },
    {
      "cell_type": "code",
      "source": [
        "#making dataframe out of lists\n",
        "# import pandas as pd\n",
        "import pandas as pd\n",
        "\n",
        "df = pd.DataFrame(list(zip(collectionitemslist_url, collectionitemslist_title, collectionitemslist_label,\n",
        "                           collectionitemslist_availabiletime, collectionitemslist_identifier, collectionitemslist_publisher, collectionitemslist_collection)))\n",
        "df = df.rename(columns={0: 'URL',1: 'Title', 2: 'Label', 3: 'Made available', 4: 'Identifier', 5: 'Publisher', 6: 'Collection'})\n",
        "#df = df[df['Label'].str.contains(\"tervik\") == False]  #filtering out values with \"tervik\"\n",
        "\n",
        "\n"
      ],
      "metadata": {
        "id": "_U_WPwpYHZ6t"
      },
      "execution_count": 55,
      "outputs": []
    },
    {
      "cell_type": "code",
      "source": [
        "df"
      ],
      "metadata": {
        "id": "v0zSs5uRiolM"
      },
      "execution_count": null,
      "outputs": []
    },
    {
      "cell_type": "code",
      "source": [
        "#file export out\n",
        "\n",
        "df.to_excel(\"labels.xlsx\")\n",
        "from google.colab import files\n",
        "\n",
        "files.download('labels.xlsx')"
      ],
      "metadata": {
        "colab": {
          "base_uri": "https://localhost:8080/",
          "height": 17
        },
        "id": "IeHZdvRLhGc6",
        "outputId": "de7e23f7-fcf1-4367-c97c-1bf2a4e98ee3"
      },
      "execution_count": 57,
      "outputs": [
        {
          "output_type": "display_data",
          "data": {
            "text/plain": [
              "<IPython.core.display.Javascript object>"
            ],
            "application/javascript": [
              "\n",
              "    async function download(id, filename, size) {\n",
              "      if (!google.colab.kernel.accessAllowed) {\n",
              "        return;\n",
              "      }\n",
              "      const div = document.createElement('div');\n",
              "      const label = document.createElement('label');\n",
              "      label.textContent = `Downloading \"${filename}\": `;\n",
              "      div.appendChild(label);\n",
              "      const progress = document.createElement('progress');\n",
              "      progress.max = size;\n",
              "      div.appendChild(progress);\n",
              "      document.body.appendChild(div);\n",
              "\n",
              "      const buffers = [];\n",
              "      let downloaded = 0;\n",
              "\n",
              "      const channel = await google.colab.kernel.comms.open(id);\n",
              "      // Send a message to notify the kernel that we're ready.\n",
              "      channel.send({})\n",
              "\n",
              "      for await (const message of channel.messages) {\n",
              "        // Send a message to notify the kernel that we're ready.\n",
              "        channel.send({})\n",
              "        if (message.buffers) {\n",
              "          for (const buffer of message.buffers) {\n",
              "            buffers.push(buffer);\n",
              "            downloaded += buffer.byteLength;\n",
              "            progress.value = downloaded;\n",
              "          }\n",
              "        }\n",
              "      }\n",
              "      const blob = new Blob(buffers, {type: 'application/binary'});\n",
              "      const a = document.createElement('a');\n",
              "      a.href = window.URL.createObjectURL(blob);\n",
              "      a.download = filename;\n",
              "      div.appendChild(a);\n",
              "      a.click();\n",
              "      div.remove();\n",
              "    }\n",
              "  "
            ]
          },
          "metadata": {}
        },
        {
          "output_type": "display_data",
          "data": {
            "text/plain": [
              "<IPython.core.display.Javascript object>"
            ],
            "application/javascript": [
              "download(\"download_c04a01c3-06b1-4a7f-8832-d8833c995558\", \"labels.xlsx\", 10405)"
            ]
          },
          "metadata": {}
        }
      ]
    },
    {
      "cell_type": "code",
      "source": [
        "#https://github.com/amueller/word_cloud/blob/main/examples/simple.py\n",
        "\n",
        "from wordcloud import WordCloud\n",
        "import matplotlib.pyplot as plt\n",
        "import pandas as pd\n",
        "\n",
        "#additional filtering for temp scope reduce\n",
        "#df = df[df['Label'].str.contains(\"Kleit\")]  #!!!!\n",
        "#creating a single string with all values from Label column\n",
        "df_joined = ' '.join(df['Label'].to_list())\n",
        "\n",
        "#df_joined = 'Kleit, õmmeldud valgest margisetist, Kleit pikkade kimono varrukatega Kleit Kleit Kleit Kleit KleitKleit Kleit'\n",
        "#would actually also need to do some: cleansing, lemmisation, tokenisation"
      ],
      "metadata": {
        "id": "4NqUZ1kxHazK"
      },
      "execution_count": 15,
      "outputs": []
    },
    {
      "cell_type": "code",
      "source": [
        "#generating world cloud\n",
        "\n",
        "import matplotlib.pyplot as plt\n",
        "# lower max_font_size\n",
        "wordcloud = WordCloud(max_font_size=80).generate(df_joined)\n",
        "plt.figure()\n",
        "plt.imshow(wordcloud, interpolation=\"bilinear\")\n",
        "plt.axis(\"off\")\n",
        "plt.show()"
      ],
      "metadata": {
        "id": "-_tyvQKLHdpY"
      },
      "execution_count": null,
      "outputs": []
    }
  ]
}