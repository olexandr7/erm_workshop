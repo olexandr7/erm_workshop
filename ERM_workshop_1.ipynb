{
  "cells": [
    {
      "cell_type": "markdown",
      "metadata": {
        "id": "view-in-github",
        "colab_type": "text"
      },
      "source": [
        "<a href=\"https://colab.research.google.com/github/olexandr7/erm_workshop/blob/main/ERM_workshop_1.ipynb\" target=\"_parent\"><img src=\"https://colab.research.google.com/assets/colab-badge.svg\" alt=\"Open In Colab\"/></a>"
      ]
    },
    {
      "cell_type": "markdown",
      "metadata": {
        "id": "b0oTEVZjHSSC"
      },
      "source": [
        "**Workshop 1** is focused on trying out textual and a bit of graphical manipulations\n",
        "\n",
        "Let's now pick a museum collection from MuIS and try several operations:\n",
        "* loading all items from collection\n",
        "* making a word cloud out of item titles\n",
        "* making a word cloud for a specific item - in item's shape\n",
        "* exporting collection to Excel"
      ]
    },
    {
      "cell_type": "code",
      "source": [
        "#running first script in Python\n",
        "print('Hello World! | Tere Maailm!')"
      ],
      "metadata": {
        "id": "cAXeV0QFasMF"
      },
      "execution_count": null,
      "outputs": []
    },
    {
      "cell_type": "markdown",
      "metadata": {
        "id": "N-83wKl7MVI7"
      },
      "source": [
        "**Block 1**: installing relevant libraries for textual and graphic manipulations"
      ]
    },
    {
      "cell_type": "code",
      "execution_count": null,
      "metadata": {
        "id": "6er42ML1CB5P"
      },
      "outputs": [],
      "source": [
        "#RDF scripts are taken from rdflib tutorial:\n",
        "#https://rdflib.readthedocs.io/en/stable/gettingstarted.html#a-more-extensive-example\n",
        "#-------------------------------\n",
        "#RDF manipulations\n",
        "%pip install rdflib\n",
        "#-------------------------------\n",
        "#plotting\n",
        "import matplotlib.pyplot as plt\n",
        "#manipulations with dataframes\n",
        "import pandas as pd\n",
        "#URL requests loading\n",
        "import urllib.request\n",
        "#multidimensional arrays\n",
        "import numpy as np\n",
        "#image manipulation\n",
        "import cv2\n",
        "#---------------------------\n",
        "#workaround to show opencv images in Colab\n",
        "from google.colab.patches import cv2_imshow\n",
        "#RDF manipulations - graphics\n",
        "from rdflib import Graph\n",
        "#visualizing word cloud\n",
        "from wordcloud import WordCloud\n",
        "#downloading files from Colab\n",
        "from google.colab import files"
      ]
    },
    {
      "cell_type": "markdown",
      "metadata": {
        "id": "w88VXU_gNLH5"
      },
      "source": [
        "**Block 2**: Displaying details of MuIS item in RDF\n",
        "<br>  <font color='orange'>CHANGE:</font> Try changing URL to any other item from MUiS - there's a *püsiviide/permalink* for each item in the interface\n",
        "https://www.muis.ee/museaalview/1887998 -> https://opendata.muis.ee/object/1887998"
      ]
    },
    {
      "cell_type": "code",
      "execution_count": null,
      "metadata": {
        "id": "n2_uRVTYFzjX"
      },
      "outputs": [],
      "source": [
        "# Create a Graph\n",
        "g = Graph()\n",
        "#this item could be viewed from MuIS UI via: https://www.muis.ee/museaalview/3761070\n",
        "# Parse in an RDF file hosted on the Internet\n",
        "g.parse(\"https://opendata.muis.ee/object/513842\")         #<---CHANGE: URL could be changed to any item from MuIS\n",
        "#displaying RDF contents - details about specific item\n",
        "for s, p, o in g:\n",
        "    print(s, '|', p, '|', o)\n",
        "\n",
        "\n",
        "print('-------------------------------')\n",
        "print('-------------------------------')\n",
        "print('-------------------------------')\n",
        "\n",
        "\n",
        "from rdflib import Dataset\n",
        "from rdflib.namespace import RDF\n",
        "\n",
        "g = Dataset()\n",
        "g.parse(\"https://opendata.muis.ee/object/513842\")\n",
        "\n",
        "for q in g.quads((None, g, g, None)):\n",
        "    print(q)"
      ]
    },
    {
      "cell_type": "markdown",
      "metadata": {
        "id": "ShHplSWPQYrL"
      },
      "source": [
        "🏛🏛🏛🏛🏛🏛🏛🏛🏛🏛🏛🏛🏛🏛🏛🏛🏛🏛🏛🏛🏛🏛🏛🏛🏛🏛\n",
        "<br>\n",
        "**Dataset**: bricks collection (Muuseumikogu: tellised) from Tallinna Linnamuuseum\n",
        "<br>\n",
        "https://www.muis.ee/catalogue:kogu/93619-849\n",
        "<br>\n",
        "🏛🏛🏛🏛🏛🏛🏛🏛🏛🏛🏛🏛🏛🏛🏛🏛🏛🏛🏛🏛🏛🏛🏛🏛🏛🏛"
      ]
    },
    {
      "cell_type": "markdown",
      "metadata": {
        "id": "RqR6R33-PjH7"
      },
      "source": [
        "**Block 3**: Loading all items from collection into a list\n",
        "<br>  <font color='orange'>CHANGE:</font> Try changing URL to a different MuIS collection"
      ]
    },
    {
      "cell_type": "code",
      "execution_count": null,
      "metadata": {
        "id": "ScFvXpIqGuY-"
      },
      "outputs": [],
      "source": [
        "g = Graph()\n",
        "g1 = Graph()\n",
        "collectionitemslist = []\n",
        "\n",
        "# Parse in an RDF file\n",
        "g.parse(\"http://www.muis.ee/rdf/collection/849\")    #<---CHANGE: could be changed to any collection from MuIS\n",
        "g1.parse(\"http://www.muis.ee/rdf/collection/837\")    #<---CHANGE: could be changed to any collection from MuIS\n",
        "#----------------------------------------------------------\n",
        "#http://www.muis.ee/rdf/collection/837  #Tallinn city museum - textile collection/tekstiil\n",
        "#http://www.muis.ee/rdf/collection/849  #Tallinn city museum - bricks collection/tellised\n",
        "#http://www.muis.ee/rdf/collection/1288 #ERM - collection of postcards/postkaardikogu\n",
        "#-----------------------------------------------------------\n",
        "\n",
        "#loop through RDF triples\n",
        "for s, p, o in g:\n",
        "    if \"P46_is_composed_of\" in p: collectionitemslist.append(o)\n",
        "\n",
        "for s, p, o in g1:\n",
        "    if \"P46_is_composed_of\" in p: collectionitemslist.append(o)\n",
        "\n",
        "#counting items within the list\n",
        "count = 0\n",
        "for items in collectionitemslist:\n",
        "        count = count + 1\n",
        "print(\"Total count of items in collection:\", count)"
      ]
    },
    {
      "cell_type": "markdown",
      "metadata": {
        "id": "jzv0xB8Ja1hr"
      },
      "source": [
        "**Block 4**: Loading details for each of the items into a dataframe\n",
        "<br>\n",
        "At the moment we're specifically interested in 2 fields:\n",
        "*  item's URL\n",
        "*  item's title (nimetus)\n",
        "\n",
        "Since the collection size could be quite extensive, we're going to load only 50 items (in random order)\n",
        "\n",
        "<font color='orange'>CHANGE: </font> Try changing the count of items and get more data"
      ]
    },
    {
      "cell_type": "code",
      "execution_count": null,
      "metadata": {
        "id": "ZpTA01UVGw0W"
      },
      "outputs": [],
      "source": [
        "#Generating dataset for wordcloud\n",
        "\n",
        "#filtering out values from valid URLs, adding them into two lists\n",
        "collectionitemslist_url = []\n",
        "collectionitemslist_title = []\n",
        "\n",
        "iter = 0\n",
        "\n",
        "for i in collectionitemslist:\n",
        "    g = Graph()\n",
        "    try:\n",
        "      g.parse(i)\n",
        "      for s, p, o in g:\n",
        "            if \"http://opendata.muis.ee/object/\" in s and \"www.w3.org/2000/01/rdf-schema#label\" in p:  print(iter, ':', o),  collectionitemslist_url.append(i), collectionitemslist_title.append(o)\n",
        "      iter += 1\n",
        "      if iter == 50:           #<---CHANGE: number of items could be adjusted\n",
        "        break\n",
        "    except Exception:\n",
        "        pass\n",
        "#making dataframe out of 2 lists\n",
        "df = pd.DataFrame(list(zip(collectionitemslist_url, collectionitemslist_title)))\n",
        "df = df.rename(columns={0: 'URL', 1: 'Title'})\n",
        "\n",
        "#displaying dataframe\n",
        "df"
      ]
    },
    {
      "source": [
        "# @title Distribution of Object Titles\n",
        "\n",
        "import matplotlib.pyplot as plt\n",
        "\n",
        "df['Title'].value_counts().plot(kind='barh')\n",
        "plt.xlabel('Count')\n",
        "plt.ylabel('Title')\n",
        "_ = plt.title('Distribution of Object Titles')"
      ],
      "cell_type": "code",
      "execution_count": null,
      "outputs": [],
      "metadata": {
        "cellView": "form",
        "id": "J48LN2j20aDG"
      }
    },
    {
      "cell_type": "markdown",
      "source": [
        "🤖🤖🤖🤖🤖🤖🤖🤖🤖🤖🤖🤖🤖🤖🤖🤖🤖\n",
        "<br>\n",
        "Let's try using Colab functionality (auto-suggestions or built-in AI) and *generate frequency chart* automatically\n",
        "<br>🤖🤖🤖🤖🤖🤖🤖🤖🤖🤖🤖🤖🤖🤖🤖🤖🤖"
      ],
      "metadata": {
        "id": "314hln7dVo1e"
      }
    },
    {
      "cell_type": "markdown",
      "metadata": {
        "id": "f-iTU9u1dHnB"
      },
      "source": [
        "**Block 4**: Making word cloud out of loaded collection data (item titles)\n",
        "<br>  <font color='orange'>CHANGE: </font> Try modifying the background color and observe how wordcloud changes"
      ]
    },
    {
      "cell_type": "code",
      "execution_count": null,
      "metadata": {
        "id": "9NUidJIZ3l-J"
      },
      "outputs": [],
      "source": [
        "#Creating wordcloud based on example from:\n",
        "#https://github.com/amueller/word_cloud/blob/main/examples/simple.py\n",
        "\n",
        "#creating a single string with all values from title column\n",
        "df_joined = ' '.join(df['Title'].to_list())\n",
        "\n",
        "#creating wordcloud\n",
        "wordcloud = WordCloud(max_font_size=80, background_color=\"black\", contour_color='steelblue') #<---CHANGE: background color could be modified\n",
        "#generating word cloud from data (single string with all values)\n",
        "wordcloud.generate(df_joined)\n",
        "\n",
        "plt.figure()\n",
        "plt.imshow(wordcloud, interpolation=\"bilinear\")\n",
        "plt.axis(\"off\")\n",
        "#displaying word cloud\n",
        "plt.show()"
      ]
    },
    {
      "cell_type": "markdown",
      "source": [
        "**Block 5**: Making advanced word cloud - displaying individual item's label inside item's visual outline.\n",
        "\n",
        "So as an example, we could have outline of a hat and then display contents of a label field inside that outline"
      ],
      "metadata": {
        "id": "IItxw-TBZN8d"
      }
    },
    {
      "cell_type": "code",
      "source": [
        "#loading data for specific item\n",
        "g = Graph()\n",
        "tinycollectionitemslist_label = []\n",
        "\n",
        "#parsing sled blanket: https://www.muis.ee/museaalview/1537361\n",
        "g.parse(\"https://opendata.muis.ee/object/1537361\")\n",
        "for s, p, o in g:\n",
        "  if \"http://opendata.muis.ee/object/\" not in s and \"rdf-schema#label\" in p and \"tervik\" not in o: tinycollectionitemslist_label.append(o)\n",
        "\n",
        "#making dataframe out of a list\n",
        "df_tiny = pd.DataFrame(list(zip(tinycollectionitemslist_label)))\n",
        "df_tiny = df_tiny.rename(columns={0: 'Label'})\n",
        "#creating a single string with all values from label  column\n",
        "df_joined_tiny = ' '.join(df_tiny['Label'].to_list())\n",
        "#displaying label text\n",
        "df_joined_tiny"
      ],
      "metadata": {
        "id": "DBGEXiJWQm2x"
      },
      "execution_count": null,
      "outputs": []
    },
    {
      "cell_type": "markdown",
      "source": [
        "**Block 6**: Manupulating with masking image (outline) - so that it would be optimal for wordcloud\n",
        "\n",
        "Simple geometric shapes work best - as it's easy to fit words inside"
      ],
      "metadata": {
        "id": "JX05vfoDW7AE"
      }
    },
    {
      "cell_type": "code",
      "source": [
        "#https://www.muis.ee/museaalview/402105\n",
        "\n",
        "# read the mask image\n",
        "url = \"https://www.muis.ee/digitaalhoidla/api/meedia/pisipilt?id=650d7c6d-a6e5-47c6-8c8a-3531bdd5f54c\"  #<---CHANGE:  URL could be changed to any image from MuIS\n",
        "url_response = urllib.request.urlopen(url)\n",
        "mask_image = cv2.imdecode(np.array(bytearray(url_response.read()), dtype=np.uint8), -1)\n",
        "\n",
        "#converting image to greyscale\n",
        "mask_image_grey = cv2.cvtColor(mask_image, cv2.COLOR_BGR2GRAY)\n",
        "\n",
        "\n",
        "#adaptive thresholding\n",
        "mask_image_grey = cv2.medianBlur(mask_image_grey,5)\n",
        "# Otsu's thresholding after Gaussian filtering\n",
        "blur = cv2.GaussianBlur(mask_image_grey,(5,5),0)\n",
        "ret3,mask_image_binarized = cv2.threshold(blur,0,255,cv2.THRESH_BINARY+cv2.THRESH_OTSU)\n",
        "#displaying images\n",
        "cv2_imshow(mask_image)\n",
        "cv2_imshow(mask_image_binarized)"
      ],
      "metadata": {
        "id": "DGuQpI2xXQKC"
      },
      "execution_count": null,
      "outputs": []
    },
    {
      "cell_type": "markdown",
      "source": [
        "**Block 7**: Manupulating masking image and displaying wordcloud\n",
        "<br>  <font color='orange'>CHANGE: </font> Try changing the content - display custom text in the wordcloud"
      ],
      "metadata": {
        "id": "W7DAKcGpXj1w"
      }
    },
    {
      "cell_type": "code",
      "source": [
        "#example taken from:\n",
        "#https://github.com/amueller/word_cloud/blob/main/examples/masked.py\n",
        "#https://docs.opencv.org/4.x/d7/d4d/tutorial_py_thresholding.html\n",
        "\n",
        "wc = WordCloud(background_color=\"white\", max_words=1000, max_font_size=400, mask=mask_image_binarized,\n",
        "              contour_width=3, contour_color='steelblue')\n",
        "\n",
        "#df_joined_tiny = 'Lorem ipsum dolor sit amet lorem ipsum ipsum ipsum ipsum'  #<---CHANGE:  uncomment to have custom text displayed in wordcloud\n",
        "\n",
        "# generate word cloud\n",
        "wc.generate(df_joined_tiny)\n",
        "\n",
        "# show\n",
        "plt.figure()\n",
        "plt.imshow(wc, interpolation='bilinear')\n",
        "plt.axis(\"off\")\n",
        "plt.show()"
      ],
      "metadata": {
        "id": "zujgItGcB0Md"
      },
      "execution_count": null,
      "outputs": []
    },
    {
      "cell_type": "markdown",
      "metadata": {
        "id": "FbdZSoqg5Ece"
      },
      "source": [
        "📓📓📓📓📓📓📓📓📓📓📓📓📓📓📓📓📓📓📓📓📓\n",
        "<br>Let's now look into exporting MuIS content into Excel file\n",
        "<BR>\n",
        "📓📓📓📓📓📓📓📓📓📓📓📓📓📓📓📓📓📓📓📓📓"
      ]
    },
    {
      "cell_type": "markdown",
      "metadata": {
        "id": "UuWy-lhKfa3T"
      },
      "source": [
        "**Block 8**: Loading item details into a dataframe - choosing column that we would like to see in output (excel) file\n",
        "<br>  <font color='orange'>CHANGE: </font> Try changing the count of items that would be loaded"
      ]
    },
    {
      "cell_type": "code",
      "source": [
        "collectionitemslist"
      ],
      "metadata": {
        "id": "wzyczGw7-1gj"
      },
      "execution_count": null,
      "outputs": []
    },
    {
      "cell_type": "code",
      "execution_count": null,
      "metadata": {
        "id": "aRRqhy7_e30D"
      },
      "outputs": [],
      "source": [
        "#filtering out values from valid URLs, adding them into multiple lists\n",
        "collectionitemslist_url1 = []\n",
        "collectionitemslist_url2 = []\n",
        "collectionitemslist_url3 = []\n",
        "collectionitemslist_url4 = []\n",
        "collectionitemslist_url5 = []\n",
        "collectionitemslist_url6 = []\n",
        "collectionitemslist_url7 = []\n",
        "#----------------------------\n",
        "collectionitemslist_title = []\n",
        "collectionitemslist_label = []\n",
        "collectionitemslist_availabiletime = []\n",
        "collectionitemslist_identifier = []\n",
        "collectionitemslist_publisher = []\n",
        "collectionitemslist_collection = []\n",
        "collectionitemslist_image = []\n",
        "\n",
        "\n",
        "iter = 0\n",
        "\n",
        "for i in collectionitemslist:\n",
        "    g = Graph()\n",
        "    try:\n",
        "        print(i)\n",
        "        g.parse(i)\n",
        "        for s, p, o in g:\n",
        "            if \"http://opendata.muis.ee/object/\" in s and \"www.w3.org/2000/01/rdf-schema#label\" in p:  print(iter, ':', 'title |', o), collectionitemslist_url1.append(i), collectionitemslist_title.append(o)\n",
        "            if \"purl.org/dc/terms/available\" in p:  print(iter, ':', 'availabile_time |', o), collectionitemslist_url2.append(i), collectionitemslist_availabiletime.append(o)\n",
        "            if \"purl.org/dc/terms/identifier\" in p:  print(iter, ':', 'identifier |', o), collectionitemslist_url3.append(i), collectionitemslist_identifier.append(o)\n",
        "            if \"purl.org/dc/elements/1.1/publisher\" in p:  print(iter, ':', 'publisher |', o), collectionitemslist_url4.append(i), collectionitemslist_publisher.append(o)\n",
        "            if \"http://opendata.muis.ee/object/\" in s and \"cidoc-crm/P46i_forms_part_of\" in p and \"/collection/\" in o:  print(iter, ':', 'collection |', o), collectionitemslist_url5.append(i), collectionitemslist_collection.append(o)\n",
        "            if \"http://opendata.muis.ee/object/\" not in s and \"rdf-schema#label\" in p and \"tervik\" not in o:  print(iter, ':', 'label |', o), collectionitemslist_url6.append(i), collectionitemslist_label.append(o)\n",
        "            if \"http://xmlns.com/foaf/0.1/depiction\" in p:  print(iter, ':', 'image_links |', o), collectionitemslist_url7.append(i), collectionitemslist_image.append(o)\n",
        "        print('----------------------------------------')\n",
        "        iter += 1\n",
        "        if iter == 20:           #<---CHANGE: number of items to load could be adjusted\n",
        "          break\n",
        "    except:\n",
        "        pass"
      ]
    },
    {
      "cell_type": "markdown",
      "source": [
        "**Block 9**: Doing manipulations on loaded data\n",
        "<br>\n",
        "Idea is that we load each column into individual dataframe and afterwards combine them on common key (URL is this case)."
      ],
      "metadata": {
        "id": "d-O8FoEe8csZ"
      }
    },
    {
      "cell_type": "code",
      "source": [
        "#special logic for Labels - as one item could have multiple lables so we need to combine them in one column\n",
        "df_labels = pd.DataFrame(list(zip(collectionitemslist_url6, collectionitemslist_label)))\n",
        "df_labels = df_labels.rename(columns={0: 'URL',1: 'Label'})\n",
        "#concatenating labels\n",
        "df_labels = df_labels.groupby('URL')['Label'].apply(' '.join).reset_index()\n",
        "#--------------------------------------------------------------------------\n",
        "#creating dataframes for other columns\n",
        "df_collection = pd.DataFrame(list(zip(collectionitemslist_url5, collectionitemslist_collection)))\n",
        "df_publisher = pd.DataFrame(list(zip(collectionitemslist_url4, collectionitemslist_publisher)))\n",
        "df_identifier = pd.DataFrame(list(zip(collectionitemslist_url3, collectionitemslist_identifier)))\n",
        "df_availabletime = pd.DataFrame(list(zip(collectionitemslist_url2, collectionitemslist_availabiletime)))\n",
        "df_title = pd.DataFrame(list(zip(collectionitemslist_url1, collectionitemslist_title)))\n",
        "df_image = pd.DataFrame(list(zip(collectionitemslist_url7, collectionitemslist_image)))\n",
        "#--------------------------------------------------------------------------\n",
        "#renaming columns\n",
        "df_collection = df_collection.rename(columns={0: 'URL',1: 'Collection'})\n",
        "df_publisher = df_publisher.rename(columns={0: 'URL',1: 'Publisher'})\n",
        "df_identifier = df_identifier.rename(columns={0: 'URL',1: 'Identifier'})\n",
        "df_availabletime = df_availabletime.rename(columns={0: 'URL',1: 'Available_time'})\n",
        "df_title = df_title.rename(columns={0: 'URL',1: 'Title'})\n",
        "df_image = df_image.rename(columns={0: 'URL',1: 'Image'})\n",
        "#finally merging all dataframes together on URL column\n",
        "df_labels.set_index('URL',inplace=True)\n",
        "df_collection.set_index('URL',inplace=True)\n",
        "df_publisher.set_index('URL',inplace=True)\n",
        "df_identifier.set_index('URL',inplace=True)\n",
        "df_availabletime.set_index('URL',inplace=True)\n",
        "df_title.set_index('URL',inplace=True)\n",
        "df_image.set_index('URL',inplace=True)\n",
        "df_all = pd.concat([df_identifier, df_title, df_availabletime, df_publisher, df_collection, df_image, df_labels],axis=1,sort=False).reset_index()\n",
        "#displaying dataframe\n",
        "df_all"
      ],
      "metadata": {
        "id": "xBvC53tfYZlS"
      },
      "execution_count": null,
      "outputs": []
    },
    {
      "cell_type": "markdown",
      "metadata": {
        "id": "cZVPRfNLgRIr"
      },
      "source": [
        "**Block 10**: Exporting dataframe to excel file\n",
        "<br>  <font color='orange'>CHANGE: </font> Try changing the excel file name\n"
      ]
    },
    {
      "cell_type": "code",
      "execution_count": null,
      "metadata": {
        "id": "IeHZdvRLhGc6"
      },
      "outputs": [],
      "source": [
        "#file export out\n",
        "df_all.to_excel(\"excel_extract.xlsx\")          #<---CHANGE: file name could be changed\n",
        "#downloading file from browser\n",
        "files.download('excel_extract.xlsx')       #<---CHANGE: file name could be changed"
      ]
    },
    {
      "cell_type": "markdown",
      "source": [
        "This would be it, thank you!\n",
        "<br>\n",
        "🔚🔚🔚🔚🔚🔚🔚🔚🔚🔚🔚🔚🔚🔚🔚"
      ],
      "metadata": {
        "id": "TRbC2Ka6eaAX"
      }
    }
  ],
  "metadata": {
    "colab": {
      "provenance": [],
      "authorship_tag": "ABX9TyMphhm2ZAByLarl70bQ6jAC",
      "include_colab_link": true
    },
    "kernelspec": {
      "display_name": "Python 3",
      "name": "python3"
    },
    "language_info": {
      "name": "python"
    }
  },
  "nbformat": 4,
  "nbformat_minor": 0
}