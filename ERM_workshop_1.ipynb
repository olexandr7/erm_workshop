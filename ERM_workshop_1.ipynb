{
  "nbformat": 4,
  "nbformat_minor": 0,
  "metadata": {
    "colab": {
      "provenance": [],
      "authorship_tag": "ABX9TyOjUih7vBPRkudyfAa6fNDY",
      "include_colab_link": true
    },
    "kernelspec": {
      "name": "python3",
      "display_name": "Python 3"
    },
    "language_info": {
      "name": "python"
    }
  },
  "cells": [
    {
      "cell_type": "markdown",
      "metadata": {
        "id": "view-in-github",
        "colab_type": "text"
      },
      "source": [
        "<a href=\"https://colab.research.google.com/github/olexandr7/erm_workshop/blob/main/ERM_workshop_1.ipynb\" target=\"_parent\"><img src=\"https://colab.research.google.com/assets/colab-badge.svg\" alt=\"Open In Colab\"/></a>"
      ]
    },
    {
      "cell_type": "markdown",
      "source": [
        "**Workshop 1** is focused on trying out textual manipulation\n",
        "\n",
        "Let's now pick a museum collection from MuIS and try several operations:\n",
        "* loading all items from collection\n",
        "* making a word cloud out of item titles\n",
        "* exporting collection to Excel"
      ],
      "metadata": {
        "id": "b0oTEVZjHSSC"
      }
    },
    {
      "cell_type": "markdown",
      "source": [
        "**Block 1**: installing relevant libraries for textual manipulation"
      ],
      "metadata": {
        "id": "N-83wKl7MVI7"
      }
    },
    {
      "cell_type": "code",
      "execution_count": null,
      "metadata": {
        "id": "6er42ML1CB5P"
      },
      "outputs": [],
      "source": [
        "#RDF scripts taken from rdflib tutorial:\n",
        "#https://rdflib.readthedocs.io/en/stable/gettingstarted.html#a-more-extensive-example\n",
        "#-------------------------------\n",
        "#installing rdflib library\n",
        "%pip install rdflib\n",
        "#-------------------------------\n",
        "import matplotlib.pyplot as plt\n",
        "import pandas as pd\n",
        "from rdflib import Graph\n",
        "from wordcloud import WordCloud\n",
        "#downloading files from Colab\n",
        "from google.colab import files"
      ]
    },
    {
      "cell_type": "markdown",
      "source": [
        "**Block 2**: Displaying details of MuIS item in RDF\n",
        "<br>  <font color='orange'>Action point:</font> Try changing URL to any other item from MUiS - there's a *püsiviide/permalink* for each item in UI\n",
        "https://www.muis.ee/museaalview/1887998 -> https://opendata.muis.ee/object/1887998"
      ],
      "metadata": {
        "id": "w88VXU_gNLH5"
      }
    },
    {
      "cell_type": "code",
      "source": [
        "# Create a Graph\n",
        "g = Graph()\n",
        "#this item could be viewed from MuIS UI via: https://www.muis.ee/museaalview/1887998\n",
        "# Parse in an RDF file hosted on the Internet\n",
        "g.parse(\"https://opendata.muis.ee/object/1887998\")         #<---  URL could be changed to any item from MuIS\n",
        "#displaying RDF contents - details about specific item\n",
        "for s, p, o in g:\n",
        "    print(s, p, o)\n",
        "#Print out the entire Graph in the RDF Turtle format (added as just another example)\n",
        "#print(g.serialize(format='turtle'))"
      ],
      "metadata": {
        "id": "n2_uRVTYFzjX"
      },
      "execution_count": null,
      "outputs": []
    },
    {
      "cell_type": "markdown",
      "source": [
        "👕👕👕👕👕👕👕\n",
        "<br>\n",
        "**Dataset**: textile collection (Muuseumikogu: tekstiil) from Tallinna Linnamuuseum\n",
        "<br>\n",
        "http://www.muis.ee/rdf/collection/837\n",
        "<br>\n",
        "👕👕👕👕👕👕👕\n",
        "\n",
        "---"
      ],
      "metadata": {
        "id": "ShHplSWPQYrL"
      }
    },
    {
      "cell_type": "markdown",
      "source": [
        "**Block 3**: Loading all items from textile collection into a list\n",
        "<br>  <font color='orange'>Action point:</font> Try changing URL to a different MuIS collection"
      ],
      "metadata": {
        "id": "RqR6R33-PjH7"
      }
    },
    {
      "cell_type": "code",
      "source": [
        "g = Graph()\n",
        "collectionitemslist = []\n",
        "\n",
        "# Parse in an RDF file\n",
        "g.parse(\"http://www.muis.ee/rdf/collection/849\")    #<---  URL could be changed to any collection from MuIS\n",
        "#http://www.muis.ee/rdf/collection/837 #Textile collection\n",
        "\n",
        "#loop through triples\n",
        "for s, p, o in g:\n",
        "    if \"P46_is_composed_of\" in p: collectionitemslist.append(o)\n",
        "\n",
        "count = 0\n",
        "for items in collectionitemslist:\n",
        "        count = count + 1\n",
        "print(\"Total count of items in collection:\", count)"
      ],
      "metadata": {
        "id": "ScFvXpIqGuY-"
      },
      "execution_count": null,
      "outputs": []
    },
    {
      "cell_type": "markdown",
      "source": [
        "**Block 4**: Loading details for each of items into a dataframe\n",
        "<br>\n",
        "At the moment we're specifically interested in 2 fields:\n",
        "*  item's URL\n",
        "*  item's title\n",
        "\n",
        "<font color='orange'>Action point: </font> Try changing the column titles within datframe"
      ],
      "metadata": {
        "id": "jzv0xB8Ja1hr"
      }
    },
    {
      "cell_type": "code",
      "source": [
        "#Generating dataset for wordcloud\n",
        "\n",
        "#filtering out values from valid URLs, adding them into two lists\n",
        "collectionitemslist_url = []\n",
        "collectionitemslist_title = []\n",
        "\n",
        "it = 0\n",
        "\n",
        "for i in collectionitemslist:\n",
        "    g = Graph()\n",
        "    try:\n",
        "        it += 1\n",
        "        g.parse(i)\n",
        "        for s, p, o in g:\n",
        "            if \"http://opendata.muis.ee/object/\" in s and \"www.w3.org/2000/01/rdf-schema#label\" in p:  print(o), print ('-------'), print(it), collectionitemslist_url.append(i), collectionitemslist_title.append(o)\n",
        "    except:\n",
        "        pass\n",
        "\n",
        "#making dataframe out of 2 lists\n",
        "df = pd.DataFrame(list(zip(collectionitemslist_url, collectionitemslist_title)))\n",
        "df = df.rename(columns={0: 'URL', 1: 'Title'})                                    #<---  column titles could be changed/renamed\n",
        "\n",
        "#displaying dataframe\n",
        "df"
      ],
      "metadata": {
        "id": "ZpTA01UVGw0W"
      },
      "execution_count": null,
      "outputs": []
    },
    {
      "cell_type": "markdown",
      "source": [
        "**Block 4**: Making word cloud out of loaded collection data (item titles)\n",
        "<br>  <font color='orange'>Action point: </font> Try changing how the word cloud is displayed (e.g. axis mode)"
      ],
      "metadata": {
        "id": "f-iTU9u1dHnB"
      }
    },
    {
      "cell_type": "code",
      "source": [
        "#Creating wordcloud based on example from:\n",
        "#https://github.com/amueller/word_cloud/blob/main/examples/simple.py\n",
        "\n",
        "#additional filtering could be applied if needed\n",
        "#df = df[df['Label'].str.contains(\"Kleit\")]\n",
        "#creating a single string with all values from title column\n",
        "df_joined = ' '.join(df['Title'].to_list())\n",
        "\n",
        "#generating world cloud\n",
        "\n",
        "# lower max_font_size\n",
        "wordcloud = WordCloud(max_font_size=80).generate(df_joined)\n",
        "plt.figure()\n",
        "plt.imshow(wordcloud, interpolation=\"bilinear\")\n",
        "plt.axis(\"off\")                                  #<--- axis display mode could be changed\n",
        "#displaying word cloud\n",
        "plt.show()"
      ],
      "metadata": {
        "id": "9NUidJIZ3l-J"
      },
      "execution_count": null,
      "outputs": []
    },
    {
      "cell_type": "markdown",
      "source": [
        "📓📓📓📓📓📓📓📓📓📓📓📓📓📓📓📓📓📓📓📓📓\n",
        "<br>Let's now look into exporting MuIS content into Excel file\n",
        "\n",
        "---"
      ],
      "metadata": {
        "id": "FbdZSoqg5Ece"
      }
    },
    {
      "cell_type": "markdown",
      "source": [
        "**Block 5**: Loading item details into a dataframe - choosing column that we would like to see in output (excel) file\n",
        "<br>  <font color='orange'>Action point: </font> Try changing how the word cloud is displayed (e.g. axis mode)"
      ],
      "metadata": {
        "id": "UuWy-lhKfa3T"
      }
    },
    {
      "cell_type": "code",
      "source": [
        "#filtering out values from valid URLs, adding them into multiple lists\n",
        "collectionitemslist_url = []\n",
        "collectionitemslist_title = []\n",
        "collectionitemslist_label = []\n",
        "collectionitemslist_availabiletime = []\n",
        "collectionitemslist_identifier = []\n",
        "collectionitemslist_publisher = []\n",
        "collectionitemslist_collection = []\n",
        "it = 0\n",
        "\n",
        "for i in collectionitemslist:\n",
        "    g = Graph()\n",
        "    try:\n",
        "        it += 1\n",
        "        g.parse(i)\n",
        "        for s, p, o in g:\n",
        "            if \"http://opendata.muis.ee/object/\" in s and \"www.w3.org/2000/01/rdf-schema#label\" in p:  print(it), collectionitemslist_url.append(i), collectionitemslist_title.append(o)\n",
        "            if \"purl.org/dc/terms/available\" in p:  print(it), collectionitemslist_url.append(i), collectionitemslist_availabiletime.append(o)\n",
        "            if \"purl.org/dc/terms/identifier\" in p:  print(it), collectionitemslist_url.append(i), collectionitemslist_identifier.append(o)\n",
        "            if \"purl.org/dc/elements/1.1/publisher\" in p:  print(it), collectionitemslist_url.append(i), collectionitemslist_publisher.append(o)\n",
        "            if \"http://opendata.muis.ee/object/\" in s and \"cidoc-crm/P46i_forms_part_of\" in p and \"/collection/\" in o:  print(it), collectionitemslist_url.append(i), collectionitemslist_collection.append(o)\n",
        "            if \"rdf-schema#label\" in p and \"tervik\" not in o:  print(it), collectionitemslist_url.append(i), collectionitemslist_label.append(o)\n",
        "    except:\n",
        "        pass\n",
        "\n",
        "#making dataframe out of lists\n",
        "df = pd.DataFrame(list(zip(collectionitemslist_url, collectionitemslist_title, collectionitemslist_label,\n",
        "                           collectionitemslist_availabiletime, collectionitemslist_identifier, collectionitemslist_publisher, collectionitemslist_collection)))\n",
        "df = df.rename(columns={0: 'URL',1: 'Title', 2: 'Label', 3: 'Made available', 4: 'Identifier', 5: 'Publisher', 6: 'Collection'})\n",
        "#df = df[df['Label'].str.contains(\"tervik\") == False]  #filtering out values with \"tervik\""
      ],
      "metadata": {
        "id": "aRRqhy7_e30D"
      },
      "execution_count": null,
      "outputs": []
    },
    {
      "cell_type": "markdown",
      "source": [
        "**Block 6**: Exporting dataframe to excel file\n",
        "<br>  <font color='orange'>Action point: </font> Try changing the excel file name"
      ],
      "metadata": {
        "id": "cZVPRfNLgRIr"
      }
    },
    {
      "cell_type": "code",
      "source": [
        "#file export out\n",
        "df.to_excel(\"labels.xlsx\")          #<--- file name could be changed\n",
        "#downloading file from browser\n",
        "files.download('labels.xlsx')       #<--- file name could be changed"
      ],
      "metadata": {
        "id": "IeHZdvRLhGc6"
      },
      "execution_count": null,
      "outputs": []
    }
  ]
}